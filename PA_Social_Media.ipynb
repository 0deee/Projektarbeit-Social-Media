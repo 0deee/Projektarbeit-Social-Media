{
 "cells": [
  {
   "cell_type": "code",
   "execution_count": 5,
   "metadata": {},
   "outputs": [],
   "source": [
    "import pandas as pd\n",
    "import numpy as np"
   ]
  },
  {
   "cell_type": "code",
   "execution_count": 11,
   "metadata": {},
   "outputs": [
    {
     "name": "stdout",
     "output_type": "stream",
     "text": [
      "0    lx21 made $10,008  on $AAPL -Check it out! htt...\n",
      "1    Insanity of today weirdo massive selling. $aap...\n",
      "2    S&P100 #Stocks Performance $HD $LOW $SBUX $TGT...\n",
      "3    $GM $TSLA: Volkswagen Pushes 2014 Record Recal...\n",
      "4    Swing Trading: Up To 8.91% Return In 14 Days h...\n",
      "Name: body, dtype: object\n"
     ]
    }
   ],
   "source": [
    "df = pd.read_csv(\"data/Tweet.csv\", error_bad_lines=False)\n",
    "print(df.body.head(5))"
   ]
  }
 ],
 "metadata": {
  "kernelspec": {
   "display_name": "Python 3",
   "language": "python",
   "name": "python3"
  },
  "language_info": {
   "codemirror_mode": {
    "name": "ipython",
    "version": 3
   },
   "file_extension": ".py",
   "mimetype": "text/x-python",
   "name": "python",
   "nbconvert_exporter": "python",
   "pygments_lexer": "ipython3",
   "version": "3.8.5"
  }
 },
 "nbformat": 4,
 "nbformat_minor": 4
}
